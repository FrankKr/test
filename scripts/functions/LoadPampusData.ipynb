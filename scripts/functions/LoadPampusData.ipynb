{
 "cells": [
  {
   "cell_type": "markdown",
   "metadata": {},
   "source": [
    "# Function which reads pampus data (designed for HISTORY15MINS.csv)\n",
    "datetime column is supposed to be %Y-%m-%d_%H_%q where %q is the quarter [1-4] \n",
    "\n",
    "Input is a csv file\n",
    "output is a pandas dataframe with datetime as index"
   ]
  },
  {
   "cell_type": "code",
   "execution_count": 2,
   "metadata": {
    "collapsed": true
   },
   "outputs": [],
   "source": [
    "import pandas as pd\n",
    "import datetime as datetime\n",
    "\n",
    "def make_datetime(row):\n",
    "    date = datetime.datetime.strftime(row['dhq'], '%Y-%m-%d %H:')\n",
    "    minute = row['dhq'].minute +(row['dhq'].minute - 1) * 15 - row['dhq'].minute\n",
    "    return date + str(minute) + ':00'\n",
    "\n",
    "def LoadPampusData(csvfile):\n",
    "    dateparse = lambda dates: pd.datetime.strptime(dates, '%Y-%m-%d_%H_%M') #note that the Minute value should be multiplied by 15\n",
    "    data = pd.read_csv(csvfile, parse_dates=['dhq'], date_parser=dateparse)\n",
    "    \n",
    "    # Correct datetimeformat\n",
    "    data['datetime'] = pd.to_datetime(data.apply(make_datetime, axis=1))\n",
    "    # Set index: datetime column\n",
    "    data.set_index('datetime', inplace = True)\n",
    "    data.sort_index(axis=0, level=None, ascending=True, inplace=True)\n",
    "    return data"
   ]
  },
  {
   "cell_type": "code",
   "execution_count": 3,
   "metadata": {
    "collapsed": true
   },
   "outputs": [],
   "source": [
    "#data = LoadPampusData('../../data/HISTORY15MINS.csv')"
   ]
  }
 ],
 "metadata": {
  "kernelspec": {
   "display_name": "Python 3",
   "language": "python",
   "name": "python3"
  },
  "language_info": {
   "codemirror_mode": {
    "name": "ipython",
    "version": 3
   },
   "file_extension": ".py",
   "mimetype": "text/x-python",
   "name": "python",
   "nbconvert_exporter": "python",
   "pygments_lexer": "ipython3",
   "version": "3.5.2"
  }
 },
 "nbformat": 4,
 "nbformat_minor": 2
}
