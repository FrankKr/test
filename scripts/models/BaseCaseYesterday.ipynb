{
 "cells": [
  {
   "cell_type": "code",
   "execution_count": 1,
   "metadata": {
    "collapsed": true
   },
   "outputs": [],
   "source": [
    "import pandas as pd\n",
    "import datetime as datetime\n",
    "import warnings as warnings\n",
    "\n",
    "def BaseCaseYesterday(data, datetimestr):\n",
    "    # forecast for date is realisation of date-1days\n",
    "    # data should be a Series, datetime should be a string of format 'YYYY-mm-dd HH:MM:SS'\n",
    "    if not isinstance(data, pd.core.series.Series): \n",
    "        # try to cast as series\n",
    "        warnings.warn(\"Data should be of type Series, trying to cast\")\n",
    "        data = pd.Series(data)\n",
    "\n",
    "    datetimestr = pd.to_datetime(datetimestr)\n",
    "    sliced = data[datetimestr + datetime.timedelta(days = -1) : datetimestr + datetime.timedelta(days = 0)]\n",
    "    shifted = sliced.shift(periods=1, freq='1D', axis=0)\n",
    "    if shifted.count() == 0: warnings.warn(\"Insufficient data to forecast datetime. Returning empty series\")\n",
    "    return shifted"
   ]
  }
 ],
 "metadata": {
  "kernelspec": {
   "display_name": "Python 3",
   "language": "python",
   "name": "python3"
  },
  "language_info": {
   "codemirror_mode": {
    "name": "ipython",
    "version": 3
   },
   "file_extension": ".py",
   "mimetype": "text/x-python",
   "name": "python",
   "nbconvert_exporter": "python",
   "pygments_lexer": "ipython3",
   "version": "3.5.2"
  }
 },
 "nbformat": 4,
 "nbformat_minor": 2
}
