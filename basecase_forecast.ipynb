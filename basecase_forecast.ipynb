{
 "cells": [
  {
   "cell_type": "code",
   "execution_count": 1,
   "metadata": {
    "collapsed": true
   },
   "outputs": [],
   "source": [
    "# first import some necessary packages/functions\n",
    "import pandas as pd\n",
    "import matplotlib.pyplot as plt\n",
    "from datetime import datetime, timedelta\n",
    "import numpy as np"
   ]
  },
  {
   "cell_type": "code",
   "execution_count": 13,
   "metadata": {
    "collapsed": true
   },
   "outputs": [],
   "source": [
    "forecastvar = 'LOAD_1_TOTW_2'\n",
    "startdate = '2016-10-01'\n",
    "enddate = '2016-12-25'\n",
    "forecastdatetime = '2016-11-05 00:00:00'"
   ]
  },
  {
   "cell_type": "code",
   "execution_count": 2,
   "metadata": {
    "collapsed": true
   },
   "outputs": [],
   "source": [
    "zowndata = pd.read_csv('data/HISTORY15MINS.csv')\n",
    "\n",
    "quarters = pd.DataFrame([(int(zowndata['dhq'][i][-1:])-1)*15 for i in range(0, len(zowndata))])\n",
    "resttime = pd.DataFrame([zowndata['dhq'][i][:-1] for i in range(0, len(zowndata))])\n",
    "\n",
    "zowndata = pd.concat([ resttime, quarters, zowndata], axis = 1, names = ['resttime', 'quarters'])\n",
    "zowndata.columns.values[0] = \"resttime\"\n",
    "zowndata.columns.values[1] = \"quarter\"\n",
    "\n",
    "zowndata['datetime'] = zowndata['resttime']  + zowndata['quarter'].astype(str)\n",
    "zowndata['datetime']  = pd.to_datetime(zowndata['datetime'], format = '%Y-%m-%d_%H_%M')\n",
    "\n",
    "zowndata.set_index(zowndata['datetime'], inplace = True)\n",
    "zowndata.sort_values(by = 'datetime', inplace = True)\n",
    "zowndata.drop(['resttime', 'quarter', 'dhq', 'datetime'], axis=1, inplace=True)"
   ]
  },
  {
   "cell_type": "code",
   "execution_count": 14,
   "metadata": {
    "collapsed": false
   },
   "outputs": [
    {
     "data": {
      "text/plain": [
       "datetime\n",
       "2016-10-01 00:00:00    6664.500000\n",
       "2016-10-01 00:15:00    5542.166667\n",
       "2016-10-01 00:30:00    5963.000000\n",
       "2016-10-01 00:45:00    5863.333333\n",
       "2016-10-01 01:00:00    5506.500000\n",
       "Name: LOAD_1_TOTW_2, dtype: float64"
      ]
     },
     "execution_count": 14,
     "metadata": {},
     "output_type": "execute_result"
    }
   ],
   "source": [
    "ts = zowndata[forecastvar]\n",
    "ts = ts[startdate:enddate]\n",
    "ts.head()"
   ]
  },
  {
   "cell_type": "code",
   "execution_count": 17,
   "metadata": {
    "collapsed": false
   },
   "outputs": [],
   "source": [
    "forecast_index = ts.index + timedelta(days = 7)"
   ]
  },
  {
   "cell_type": "code",
   "execution_count": 21,
   "metadata": {
    "collapsed": false
   },
   "outputs": [],
   "source": [
    "forecast_ts = ts.reindex(forecast_index)"
   ]
  },
  {
   "cell_type": "code",
   "execution_count": 20,
   "metadata": {
    "collapsed": false
   },
   "outputs": [
    {
     "data": {
      "text/plain": [
       "datetime\n",
       "2016-10-01 00:00:00    6664.500000\n",
       "2016-10-01 00:15:00    5542.166667\n",
       "2016-10-01 00:30:00    5963.000000\n",
       "2016-10-01 00:45:00    5863.333333\n",
       "2016-10-01 01:00:00    5506.500000\n",
       "Name: LOAD_1_TOTW_2, dtype: float64"
      ]
     },
     "execution_count": 20,
     "metadata": {},
     "output_type": "execute_result"
    }
   ],
   "source": [
    "ts.head()"
   ]
  },
  {
   "cell_type": "code",
   "execution_count": 22,
   "metadata": {
    "collapsed": false
   },
   "outputs": [
    {
     "data": {
      "text/plain": [
       "datetime\n",
       "2016-10-08 00:00:00    0.0\n",
       "2016-10-08 00:15:00    0.0\n",
       "2016-10-08 00:30:00    0.0\n",
       "2016-10-08 00:45:00    0.0\n",
       "2016-10-08 01:00:00    0.0\n",
       "Name: LOAD_1_TOTW_2, dtype: float64"
      ]
     },
     "execution_count": 22,
     "metadata": {},
     "output_type": "execute_result"
    }
   ],
   "source": [
    "forecast_ts.head()"
   ]
  },
  {
   "cell_type": "code",
   "execution_count": null,
   "metadata": {
    "collapsed": true
   },
   "outputs": [],
   "source": []
  }
 ],
 "metadata": {
  "kernelspec": {
   "display_name": "Python 3",
   "language": "python",
   "name": "python3"
  },
  "language_info": {
   "codemirror_mode": {
    "name": "ipython",
    "version": 3
   },
   "file_extension": ".py",
   "mimetype": "text/x-python",
   "name": "python",
   "nbconvert_exporter": "python",
   "pygments_lexer": "ipython3",
   "version": "3.5.2"
  }
 },
 "nbformat": 4,
 "nbformat_minor": 2
}
